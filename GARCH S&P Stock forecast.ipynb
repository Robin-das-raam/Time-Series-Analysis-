{
 "cells": [
  {
   "cell_type": "markdown",
   "id": "d56a462b",
   "metadata": {},
   "source": [
    "# S&P 500"
   ]
  },
  {
   "cell_type": "code",
   "execution_count": 1,
   "id": "88122d38",
   "metadata": {},
   "outputs": [],
   "source": [
    "# impporing libraries\n",
    "\n",
    "import numpy as np\n",
    "import pandas as pd\n",
    "import matplotlib.pyplot as plt\n",
    "import pandas_datareader.data as web\n",
    "\n",
    "from datetime import datetime, timedelta\n",
    "from statsmodels.graphics.tsaplots import plot_acf, plot_pacf\n",
    "from arch import arch_model\n",
    "\n",
    "import warnings\n",
    "warnings.filterwarnings(\"ignore\")"
   ]
  },
  {
   "cell_type": "code",
   "execution_count": 2,
   "id": "e3ce10df",
   "metadata": {},
   "outputs": [],
   "source": [
    "start = datetime(2000,1,1)\n",
    "end = datetime(2021,3,3)"
   ]
  },
  {
   "cell_type": "code",
   "execution_count": 3,
   "id": "570bac25",
   "metadata": {},
   "outputs": [],
   "source": [
    "#read data\n",
    "\n",
    "spy = web.DataReader(\"SPY\", \"yahoo\", start = start, end = end)"
   ]
  },
  {
   "cell_type": "code",
   "execution_count": 4,
   "id": "16c244af",
   "metadata": {},
   "outputs": [
    {
     "data": {
      "text/html": [
       "<div>\n",
       "<style scoped>\n",
       "    .dataframe tbody tr th:only-of-type {\n",
       "        vertical-align: middle;\n",
       "    }\n",
       "\n",
       "    .dataframe tbody tr th {\n",
       "        vertical-align: top;\n",
       "    }\n",
       "\n",
       "    .dataframe thead th {\n",
       "        text-align: right;\n",
       "    }\n",
       "</style>\n",
       "<table border=\"1\" class=\"dataframe\">\n",
       "  <thead>\n",
       "    <tr style=\"text-align: right;\">\n",
       "      <th></th>\n",
       "      <th>High</th>\n",
       "      <th>Low</th>\n",
       "      <th>Open</th>\n",
       "      <th>Close</th>\n",
       "      <th>Volume</th>\n",
       "      <th>Adj Close</th>\n",
       "    </tr>\n",
       "    <tr>\n",
       "      <th>Date</th>\n",
       "      <th></th>\n",
       "      <th></th>\n",
       "      <th></th>\n",
       "      <th></th>\n",
       "      <th></th>\n",
       "      <th></th>\n",
       "    </tr>\n",
       "  </thead>\n",
       "  <tbody>\n",
       "    <tr>\n",
       "      <th>1999-12-31</th>\n",
       "      <td>147.500000</td>\n",
       "      <td>146.250000</td>\n",
       "      <td>146.843750</td>\n",
       "      <td>146.875000</td>\n",
       "      <td>3172700.0</td>\n",
       "      <td>98.155983</td>\n",
       "    </tr>\n",
       "    <tr>\n",
       "      <th>2000-01-03</th>\n",
       "      <td>148.250000</td>\n",
       "      <td>143.875000</td>\n",
       "      <td>148.250000</td>\n",
       "      <td>145.437500</td>\n",
       "      <td>8164300.0</td>\n",
       "      <td>97.195297</td>\n",
       "    </tr>\n",
       "    <tr>\n",
       "      <th>2000-01-04</th>\n",
       "      <td>144.062500</td>\n",
       "      <td>139.640625</td>\n",
       "      <td>143.531250</td>\n",
       "      <td>139.750000</td>\n",
       "      <td>8089800.0</td>\n",
       "      <td>93.394386</td>\n",
       "    </tr>\n",
       "    <tr>\n",
       "      <th>2000-01-05</th>\n",
       "      <td>141.531250</td>\n",
       "      <td>137.250000</td>\n",
       "      <td>139.937500</td>\n",
       "      <td>140.000000</td>\n",
       "      <td>12177900.0</td>\n",
       "      <td>93.561424</td>\n",
       "    </tr>\n",
       "    <tr>\n",
       "      <th>2000-01-06</th>\n",
       "      <td>141.500000</td>\n",
       "      <td>137.750000</td>\n",
       "      <td>139.625000</td>\n",
       "      <td>137.750000</td>\n",
       "      <td>6227200.0</td>\n",
       "      <td>92.057793</td>\n",
       "    </tr>\n",
       "    <tr>\n",
       "      <th>...</th>\n",
       "      <td>...</td>\n",
       "      <td>...</td>\n",
       "      <td>...</td>\n",
       "      <td>...</td>\n",
       "      <td>...</td>\n",
       "      <td>...</td>\n",
       "    </tr>\n",
       "    <tr>\n",
       "      <th>2021-02-25</th>\n",
       "      <td>391.880005</td>\n",
       "      <td>380.779999</td>\n",
       "      <td>390.410004</td>\n",
       "      <td>382.329987</td>\n",
       "      <td>146670500.0</td>\n",
       "      <td>378.626190</td>\n",
       "    </tr>\n",
       "    <tr>\n",
       "      <th>2021-02-26</th>\n",
       "      <td>385.579987</td>\n",
       "      <td>378.230011</td>\n",
       "      <td>384.350006</td>\n",
       "      <td>380.359985</td>\n",
       "      <td>152701600.0</td>\n",
       "      <td>376.675262</td>\n",
       "    </tr>\n",
       "    <tr>\n",
       "      <th>2021-03-01</th>\n",
       "      <td>390.920013</td>\n",
       "      <td>380.570007</td>\n",
       "      <td>385.589996</td>\n",
       "      <td>389.579987</td>\n",
       "      <td>105348800.0</td>\n",
       "      <td>385.805939</td>\n",
       "    </tr>\n",
       "    <tr>\n",
       "      <th>2021-03-02</th>\n",
       "      <td>390.070007</td>\n",
       "      <td>386.000000</td>\n",
       "      <td>389.820007</td>\n",
       "      <td>386.540009</td>\n",
       "      <td>79595300.0</td>\n",
       "      <td>382.795410</td>\n",
       "    </tr>\n",
       "    <tr>\n",
       "      <th>2021-03-03</th>\n",
       "      <td>386.829987</td>\n",
       "      <td>381.309998</td>\n",
       "      <td>385.790009</td>\n",
       "      <td>381.420013</td>\n",
       "      <td>119940200.0</td>\n",
       "      <td>377.725037</td>\n",
       "    </tr>\n",
       "  </tbody>\n",
       "</table>\n",
       "<p>5326 rows × 6 columns</p>\n",
       "</div>"
      ],
      "text/plain": [
       "                  High         Low        Open       Close       Volume  \\\n",
       "Date                                                                      \n",
       "1999-12-31  147.500000  146.250000  146.843750  146.875000    3172700.0   \n",
       "2000-01-03  148.250000  143.875000  148.250000  145.437500    8164300.0   \n",
       "2000-01-04  144.062500  139.640625  143.531250  139.750000    8089800.0   \n",
       "2000-01-05  141.531250  137.250000  139.937500  140.000000   12177900.0   \n",
       "2000-01-06  141.500000  137.750000  139.625000  137.750000    6227200.0   \n",
       "...                ...         ...         ...         ...          ...   \n",
       "2021-02-25  391.880005  380.779999  390.410004  382.329987  146670500.0   \n",
       "2021-02-26  385.579987  378.230011  384.350006  380.359985  152701600.0   \n",
       "2021-03-01  390.920013  380.570007  385.589996  389.579987  105348800.0   \n",
       "2021-03-02  390.070007  386.000000  389.820007  386.540009   79595300.0   \n",
       "2021-03-03  386.829987  381.309998  385.790009  381.420013  119940200.0   \n",
       "\n",
       "             Adj Close  \n",
       "Date                    \n",
       "1999-12-31   98.155983  \n",
       "2000-01-03   97.195297  \n",
       "2000-01-04   93.394386  \n",
       "2000-01-05   93.561424  \n",
       "2000-01-06   92.057793  \n",
       "...                ...  \n",
       "2021-02-25  378.626190  \n",
       "2021-02-26  376.675262  \n",
       "2021-03-01  385.805939  \n",
       "2021-03-02  382.795410  \n",
       "2021-03-03  377.725037  \n",
       "\n",
       "[5326 rows x 6 columns]"
      ]
     },
     "execution_count": 4,
     "metadata": {},
     "output_type": "execute_result"
    }
   ],
   "source": [
    "spy"
   ]
  },
  {
   "cell_type": "code",
   "execution_count": 6,
   "id": "9015b270",
   "metadata": {},
   "outputs": [
    {
     "data": {
      "text/html": [
       "<div>\n",
       "<style scoped>\n",
       "    .dataframe tbody tr th:only-of-type {\n",
       "        vertical-align: middle;\n",
       "    }\n",
       "\n",
       "    .dataframe tbody tr th {\n",
       "        vertical-align: top;\n",
       "    }\n",
       "\n",
       "    .dataframe thead th {\n",
       "        text-align: right;\n",
       "    }\n",
       "</style>\n",
       "<table border=\"1\" class=\"dataframe\">\n",
       "  <thead>\n",
       "    <tr style=\"text-align: right;\">\n",
       "      <th></th>\n",
       "      <th>High</th>\n",
       "      <th>Low</th>\n",
       "      <th>Open</th>\n",
       "      <th>Close</th>\n",
       "      <th>Volume</th>\n",
       "      <th>Adj Close</th>\n",
       "    </tr>\n",
       "  </thead>\n",
       "  <tbody>\n",
       "    <tr>\n",
       "      <th>count</th>\n",
       "      <td>5326.000000</td>\n",
       "      <td>5326.000000</td>\n",
       "      <td>5326.000000</td>\n",
       "      <td>5326.000000</td>\n",
       "      <td>5.326000e+03</td>\n",
       "      <td>5326.000000</td>\n",
       "    </tr>\n",
       "    <tr>\n",
       "      <th>mean</th>\n",
       "      <td>168.111668</td>\n",
       "      <td>166.033366</td>\n",
       "      <td>167.123839</td>\n",
       "      <td>167.122912</td>\n",
       "      <td>1.113280e+08</td>\n",
       "      <td>141.430230</td>\n",
       "    </tr>\n",
       "    <tr>\n",
       "      <th>std</th>\n",
       "      <td>69.839347</td>\n",
       "      <td>69.306655</td>\n",
       "      <td>69.597143</td>\n",
       "      <td>69.599635</td>\n",
       "      <td>9.716378e+07</td>\n",
       "      <td>76.555183</td>\n",
       "    </tr>\n",
       "    <tr>\n",
       "      <th>min</th>\n",
       "      <td>70.000000</td>\n",
       "      <td>67.099998</td>\n",
       "      <td>67.949997</td>\n",
       "      <td>68.110001</td>\n",
       "      <td>1.436600e+06</td>\n",
       "      <td>52.985550</td>\n",
       "    </tr>\n",
       "    <tr>\n",
       "      <th>25%</th>\n",
       "      <td>117.592497</td>\n",
       "      <td>115.905001</td>\n",
       "      <td>116.910004</td>\n",
       "      <td>116.700003</td>\n",
       "      <td>4.873785e+07</td>\n",
       "      <td>86.190504</td>\n",
       "    </tr>\n",
       "    <tr>\n",
       "      <th>50%</th>\n",
       "      <td>140.285004</td>\n",
       "      <td>138.060005</td>\n",
       "      <td>139.294998</td>\n",
       "      <td>139.290627</td>\n",
       "      <td>8.221725e+07</td>\n",
       "      <td>106.038658</td>\n",
       "    </tr>\n",
       "    <tr>\n",
       "      <th>75%</th>\n",
       "      <td>208.914997</td>\n",
       "      <td>206.977497</td>\n",
       "      <td>207.905003</td>\n",
       "      <td>208.007496</td>\n",
       "      <td>1.479940e+08</td>\n",
       "      <td>185.450310</td>\n",
       "    </tr>\n",
       "    <tr>\n",
       "      <th>max</th>\n",
       "      <td>394.170013</td>\n",
       "      <td>391.529999</td>\n",
       "      <td>393.959991</td>\n",
       "      <td>392.640015</td>\n",
       "      <td>8.710263e+08</td>\n",
       "      <td>388.836334</td>\n",
       "    </tr>\n",
       "  </tbody>\n",
       "</table>\n",
       "</div>"
      ],
      "text/plain": [
       "              High          Low         Open        Close        Volume  \\\n",
       "count  5326.000000  5326.000000  5326.000000  5326.000000  5.326000e+03   \n",
       "mean    168.111668   166.033366   167.123839   167.122912  1.113280e+08   \n",
       "std      69.839347    69.306655    69.597143    69.599635  9.716378e+07   \n",
       "min      70.000000    67.099998    67.949997    68.110001  1.436600e+06   \n",
       "25%     117.592497   115.905001   116.910004   116.700003  4.873785e+07   \n",
       "50%     140.285004   138.060005   139.294998   139.290627  8.221725e+07   \n",
       "75%     208.914997   206.977497   207.905003   208.007496  1.479940e+08   \n",
       "max     394.170013   391.529999   393.959991   392.640015  8.710263e+08   \n",
       "\n",
       "         Adj Close  \n",
       "count  5326.000000  \n",
       "mean    141.430230  \n",
       "std      76.555183  \n",
       "min      52.985550  \n",
       "25%      86.190504  \n",
       "50%     106.038658  \n",
       "75%     185.450310  \n",
       "max     388.836334  "
      ]
     },
     "execution_count": 6,
     "metadata": {},
     "output_type": "execute_result"
    }
   ],
   "source": [
    "spy.describe()"
   ]
  },
  {
   "cell_type": "code",
   "execution_count": 7,
   "id": "a6b92dfa",
   "metadata": {},
   "outputs": [
    {
     "name": "stdout",
     "output_type": "stream",
     "text": [
      "<class 'pandas.core.frame.DataFrame'>\n",
      "DatetimeIndex: 5326 entries, 1999-12-31 to 2021-03-03\n",
      "Data columns (total 6 columns):\n",
      " #   Column     Non-Null Count  Dtype  \n",
      "---  ------     --------------  -----  \n",
      " 0   High       5326 non-null   float64\n",
      " 1   Low        5326 non-null   float64\n",
      " 2   Open       5326 non-null   float64\n",
      " 3   Close      5326 non-null   float64\n",
      " 4   Volume     5326 non-null   float64\n",
      " 5   Adj Close  5326 non-null   float64\n",
      "dtypes: float64(6)\n",
      "memory usage: 291.3 KB\n"
     ]
    }
   ],
   "source": [
    "spy.info()"
   ]
  },
  {
   "cell_type": "code",
   "execution_count": 8,
   "id": "1b20cbc8",
   "metadata": {},
   "outputs": [
    {
     "data": {
      "text/html": [
       "<div>\n",
       "<style scoped>\n",
       "    .dataframe tbody tr th:only-of-type {\n",
       "        vertical-align: middle;\n",
       "    }\n",
       "\n",
       "    .dataframe tbody tr th {\n",
       "        vertical-align: top;\n",
       "    }\n",
       "\n",
       "    .dataframe thead th {\n",
       "        text-align: right;\n",
       "    }\n",
       "</style>\n",
       "<table border=\"1\" class=\"dataframe\">\n",
       "  <thead>\n",
       "    <tr style=\"text-align: right;\">\n",
       "      <th></th>\n",
       "      <th>High</th>\n",
       "      <th>Low</th>\n",
       "      <th>Open</th>\n",
       "      <th>Close</th>\n",
       "      <th>Volume</th>\n",
       "      <th>Adj Close</th>\n",
       "    </tr>\n",
       "    <tr>\n",
       "      <th>Date</th>\n",
       "      <th></th>\n",
       "      <th></th>\n",
       "      <th></th>\n",
       "      <th></th>\n",
       "      <th></th>\n",
       "      <th></th>\n",
       "    </tr>\n",
       "  </thead>\n",
       "  <tbody>\n",
       "    <tr>\n",
       "      <th>1999-12-31</th>\n",
       "      <td>147.50000</td>\n",
       "      <td>146.250000</td>\n",
       "      <td>146.84375</td>\n",
       "      <td>146.8750</td>\n",
       "      <td>3172700.0</td>\n",
       "      <td>98.155983</td>\n",
       "    </tr>\n",
       "    <tr>\n",
       "      <th>2000-01-03</th>\n",
       "      <td>148.25000</td>\n",
       "      <td>143.875000</td>\n",
       "      <td>148.25000</td>\n",
       "      <td>145.4375</td>\n",
       "      <td>8164300.0</td>\n",
       "      <td>97.195297</td>\n",
       "    </tr>\n",
       "    <tr>\n",
       "      <th>2000-01-04</th>\n",
       "      <td>144.06250</td>\n",
       "      <td>139.640625</td>\n",
       "      <td>143.53125</td>\n",
       "      <td>139.7500</td>\n",
       "      <td>8089800.0</td>\n",
       "      <td>93.394386</td>\n",
       "    </tr>\n",
       "    <tr>\n",
       "      <th>2000-01-05</th>\n",
       "      <td>141.53125</td>\n",
       "      <td>137.250000</td>\n",
       "      <td>139.93750</td>\n",
       "      <td>140.0000</td>\n",
       "      <td>12177900.0</td>\n",
       "      <td>93.561424</td>\n",
       "    </tr>\n",
       "    <tr>\n",
       "      <th>2000-01-06</th>\n",
       "      <td>141.50000</td>\n",
       "      <td>137.750000</td>\n",
       "      <td>139.62500</td>\n",
       "      <td>137.7500</td>\n",
       "      <td>6227200.0</td>\n",
       "      <td>92.057793</td>\n",
       "    </tr>\n",
       "  </tbody>\n",
       "</table>\n",
       "</div>"
      ],
      "text/plain": [
       "                 High         Low       Open     Close      Volume  Adj Close\n",
       "Date                                                                         \n",
       "1999-12-31  147.50000  146.250000  146.84375  146.8750   3172700.0  98.155983\n",
       "2000-01-03  148.25000  143.875000  148.25000  145.4375   8164300.0  97.195297\n",
       "2000-01-04  144.06250  139.640625  143.53125  139.7500   8089800.0  93.394386\n",
       "2000-01-05  141.53125  137.250000  139.93750  140.0000  12177900.0  93.561424\n",
       "2000-01-06  141.50000  137.750000  139.62500  137.7500   6227200.0  92.057793"
      ]
     },
     "execution_count": 8,
     "metadata": {},
     "output_type": "execute_result"
    }
   ],
   "source": [
    "spy.head(5)"
   ]
  },
  {
   "cell_type": "code",
   "execution_count": 9,
   "id": "80af0de3",
   "metadata": {},
   "outputs": [],
   "source": [
    "returns = spy.Close.pct_change().dropna()"
   ]
  },
  {
   "cell_type": "code",
   "execution_count": 10,
   "id": "d45084c0",
   "metadata": {},
   "outputs": [
    {
     "data": {
      "text/plain": [
       "Date\n",
       "2000-01-03   -0.009787\n",
       "2000-01-04   -0.039106\n",
       "2000-01-05    0.001789\n",
       "2000-01-06   -0.016071\n",
       "2000-01-07    0.058076\n",
       "                ...   \n",
       "2021-02-25   -0.024096\n",
       "2021-02-26   -0.005153\n",
       "2021-03-01    0.024240\n",
       "2021-03-02   -0.007803\n",
       "2021-03-03   -0.013246\n",
       "Name: Close, Length: 5325, dtype: float64"
      ]
     },
     "execution_count": 10,
     "metadata": {},
     "output_type": "execute_result"
    }
   ],
   "source": [
    "returns"
   ]
  },
  {
   "cell_type": "code",
   "execution_count": 12,
   "id": "8faad3d9",
   "metadata": {},
   "outputs": [
    {
     "data": {
      "text/plain": [
       "Text(0, 0.5, 'PCT returns')"
      ]
     },
     "execution_count": 12,
     "metadata": {},
     "output_type": "execute_result"
    },
    {
     "data": {
      "image/png": "[encoded data removed]",
      "text/plain": [
       "<Figure size 720x288 with 1 Axes>"
      ]
     },
     "metadata": {
      "needs_background": "light"
     },
     "output_type": "display_data"
    }
   ],
   "source": [
    "plt.figure(figsize = (10,4))\n",
    "plt.plot(returns)\n",
    "plt.title(\"SPY retuns\", fontsize = 20)\n",
    "plt.ylabel(\"PCT returns\", fontsize = 16)"
   ]
  },
  {
   "cell_type": "markdown",
   "id": "70494234",
   "metadata": {},
   "source": [
    "# PACF PLOT"
   ]
  },
  {
   "cell_type": "code",
   "execution_count": 13,
   "id": "d778ae1c",
   "metadata": {},
   "outputs": [
    {
     "data": {
      "image/png": "[encoded data removed]",
      "text/plain": [
       "<Figure size 432x288 with 1 Axes>"
      ]
     },
     "metadata": {
      "needs_background": "light"
     },
     "output_type": "display_data"
    }
   ],
   "source": [
    "plot_pacf(returns**2)\n",
    "plt.show()"
   ]
  },
  {
   "cell_type": "markdown",
   "id": "f3c0597a",
   "metadata": {},
   "source": [
    "**On the basis of PACF plot we can try GARCH(2,2) model** "
   ]
  },
  {
   "cell_type": "markdown",
   "id": "c8ca69e0",
   "metadata": {},
   "source": [
    "# FIT GARCH(2,2) model"
   ]
  },
  {
   "cell_type": "code",
   "execution_count": 14,
   "id": "8d24c41b",
   "metadata": {},
   "outputs": [
    {
     "name": "stdout",
     "output_type": "stream",
     "text": [
      "Iteration:      1,   Func. Count:      8,   Neg. LLF: 5.347276954429955e+22\n",
      "Iteration:      2,   Func. Count:     25,   Neg. LLF: 118397084569894.45\n",
      "Iteration:      3,   Func. Count:     42,   Neg. LLF: 2.3283345630223432e+24\n",
      "Iteration:      4,   Func. Count:     59,   Neg. LLF: 1.7698937722685788e+25\n",
      "Iteration:      5,   Func. Count:     76,   Neg. LLF: 1.3482812312412126e+21\n",
      "Iteration:      6,   Func. Count:     91,   Neg. LLF: 13440333362400.19\n",
      "Iteration:      7,   Func. Count:    108,   Neg. LLF: 1.243204721011261e+18\n",
      "Iteration:      8,   Func. Count:    122,   Neg. LLF: -17182.014039566722\n",
      "Optimization terminated successfully    (Exit mode 0)\n",
      "            Current function value: -17182.014036897872\n",
      "            Iterations: 12\n",
      "            Function evaluations: 122\n",
      "            Gradient evaluations: 8\n"
     ]
    }
   ],
   "source": [
    "model = arch_model(returns, p = 2, q= 2)\n",
    "model_fit = model.fit()"
   ]
  },
  {
   "cell_type": "code",
   "execution_count": 15,
   "id": "c4dd6b13",
   "metadata": {},
   "outputs": [
    {
     "data": {
      "text/html": [
       "<table class=\"simpletable\">\n",
       "<caption>Constant Mean - GARCH Model Results</caption>\n",
       "<tr>\n",
       "  <th>Dep. Variable:</th>        <td>Close</td>       <th>  R-squared:         </th>  <td>   0.000</td> \n",
       "</tr>\n",
       "<tr>\n",
       "  <th>Mean Model:</th>       <td>Constant Mean</td>   <th>  Adj. R-squared:    </th>  <td>   0.000</td> \n",
       "</tr>\n",
       "<tr>\n",
       "  <th>Vol Model:</th>            <td>GARCH</td>       <th>  Log-Likelihood:    </th> <td>   17182.0</td>\n",
       "</tr>\n",
       "<tr>\n",
       "  <th>Distribution:</th>        <td>Normal</td>       <th>  AIC:               </th> <td>  -34352.0</td>\n",
       "</tr>\n",
       "<tr>\n",
       "  <th>Method:</th>        <td>Maximum Likelihood</td> <th>  BIC:               </th> <td>  -34312.5</td>\n",
       "</tr>\n",
       "<tr>\n",
       "  <th></th>                        <td></td>          <th>  No. Observations:  </th>    <td>5325</td>   \n",
       "</tr>\n",
       "<tr>\n",
       "  <th>Date:</th>           <td>Wed, Dec 01 2021</td>  <th>  Df Residuals:      </th>    <td>5324</td>   \n",
       "</tr>\n",
       "<tr>\n",
       "  <th>Time:</th>               <td>14:58:32</td>      <th>  Df Model:          </th>      <td>1</td>    \n",
       "</tr>\n",
       "</table>\n",
       "<table class=\"simpletable\">\n",
       "<caption>Mean Model</caption>\n",
       "<tr>\n",
       "   <td></td>     <th>coef</th>     <th>std err</th>      <th>t</th>     <th>P>|t|</th>   <th>95.0% Conf. Int.</th>   \n",
       "</tr>\n",
       "<tr>\n",
       "  <th>mu</th> <td>6.5177e-04</td> <td>5.061e-06</td> <td>  128.795</td> <td>0.000</td> <td>[6.419e-04,6.617e-04]</td>\n",
       "</tr>\n",
       "</table>\n",
       "<table class=\"simpletable\">\n",
       "<caption>Volatility Model</caption>\n",
       "<tr>\n",
       "      <td></td>        <th>coef</th>     <th>std err</th>      <th>t</th>       <th>P>|t|</th>     <th>95.0% Conf. Int.</th>   \n",
       "</tr>\n",
       "<tr>\n",
       "  <th>omega</th>    <td>3.1442e-06</td> <td>1.186e-11</td> <td>2.652e+05</td>   <td>0.000</td>   <td>[3.144e-06,3.144e-06]</td>\n",
       "</tr>\n",
       "<tr>\n",
       "  <th>alpha[1]</th> <td>    0.1000</td> <td>2.462e-02</td> <td>    4.061</td> <td>4.879e-05</td>  <td>[5.174e-02,  0.148]</td> \n",
       "</tr>\n",
       "<tr>\n",
       "  <th>alpha[2]</th> <td>    0.1000</td> <td>9.334e-02</td> <td>    1.071</td> <td>    0.284</td> <td>[-8.294e-02,  0.283]</td> \n",
       "</tr>\n",
       "<tr>\n",
       "  <th>beta[1]</th>  <td>    0.3900</td> <td>    0.738</td> <td>    0.528</td> <td>    0.597</td>   <td>[ -1.057,  1.837]</td>  \n",
       "</tr>\n",
       "<tr>\n",
       "  <th>beta[2]</th>  <td>    0.3900</td> <td>    0.662</td> <td>    0.589</td> <td>    0.556</td>   <td>[ -0.907,  1.687]</td>  \n",
       "</tr>\n",
       "</table><br/><br/>Covariance estimator: robust"
      ],
      "text/plain": [
       "<class 'statsmodels.iolib.summary.Summary'>\n",
       "\"\"\"\n",
       "                     Constant Mean - GARCH Model Results                      \n",
       "==============================================================================\n",
       "Dep. Variable:                  Close   R-squared:                       0.000\n",
       "Mean Model:             Constant Mean   Adj. R-squared:                  0.000\n",
       "Vol Model:                      GARCH   Log-Likelihood:                17182.0\n",
       "Distribution:                  Normal   AIC:                          -34352.0\n",
       "Method:            Maximum Likelihood   BIC:                          -34312.5\n",
       "                                        No. Observations:                 5325\n",
       "Date:                Wed, Dec 01 2021   Df Residuals:                     5324\n",
       "Time:                        14:58:32   Df Model:                            1\n",
       "                                 Mean Model                                 \n",
       "============================================================================\n",
       "                 coef    std err          t      P>|t|      95.0% Conf. Int.\n",
       "----------------------------------------------------------------------------\n",
       "mu         6.5177e-04  5.061e-06    128.795      0.000 [6.419e-04,6.617e-04]\n",
       "                              Volatility Model                              \n",
       "============================================================================\n",
       "                 coef    std err          t      P>|t|      95.0% Conf. Int.\n",
       "----------------------------------------------------------------------------\n",
       "omega      3.1442e-06  1.186e-11  2.652e+05      0.000 [3.144e-06,3.144e-06]\n",
       "alpha[1]       0.1000  2.462e-02      4.061  4.879e-05   [5.174e-02,  0.148]\n",
       "alpha[2]       0.1000  9.334e-02      1.071      0.284  [-8.294e-02,  0.283]\n",
       "beta[1]        0.3900      0.738      0.528      0.597     [ -1.057,  1.837]\n",
       "beta[2]        0.3900      0.662      0.589      0.556     [ -0.907,  1.687]\n",
       "============================================================================\n",
       "\n",
       "Covariance estimator: robust\n",
       "\"\"\""
      ]
     },
     "execution_count": 15,
     "metadata": {},
     "output_type": "execute_result"
    }
   ],
   "source": [
    "model_fit.summary()"
   ]
  },
  {
   "cell_type": "markdown",
   "id": "388274b9",
   "metadata": {},
   "source": [
    "**The coefficient values of GARCH(2,2) models are not that significant..we should try another model** "
   ]
  },
  {
   "cell_type": "code",
   "execution_count": 16,
   "id": "00e92ab8",
   "metadata": {},
   "outputs": [
    {
     "data": {
      "image/png": "[encoded data removed]",
      "text/plain": [
       "<Figure size 432x288 with 1 Axes>"
      ]
     },
     "metadata": {
      "needs_background": "light"
     },
     "output_type": "display_data"
    }
   ],
   "source": [
    "plot_pacf(returns)\n",
    "plt.show()"
   ]
  },
  {
   "cell_type": "code",
   "execution_count": 17,
   "id": "2eb24671",
   "metadata": {},
   "outputs": [
    {
     "data": {
      "image/png": "[encoded data removed]",
      "text/plain": [
       "<Figure size 432x288 with 1 Axes>"
      ]
     },
     "metadata": {
      "needs_background": "light"
     },
     "output_type": "display_data"
    }
   ],
   "source": [
    "plot_pacf(returns**2)\n",
    "plt.show()"
   ]
  },
  {
   "cell_type": "markdown",
   "id": "164fffd1",
   "metadata": {},
   "source": [
    "# FIT GARCH(5,5) "
   ]
  },
  {
   "cell_type": "code",
   "execution_count": 18,
   "id": "1c06fab5",
   "metadata": {},
   "outputs": [
    {
     "name": "stdout",
     "output_type": "stream",
     "text": [
      "Iteration:      1,   Func. Count:     14,   Neg. LLF: 110858010435.10376\n",
      "Iteration:      2,   Func. Count:     36,   Neg. LLF: -17120.492477921005\n",
      "Optimization terminated successfully    (Exit mode 0)\n",
      "            Current function value: -17120.492491019388\n",
      "            Iterations: 6\n",
      "            Function evaluations: 36\n",
      "            Gradient evaluations: 2\n"
     ]
    }
   ],
   "source": [
    "model_1 = arch_model(returns, p= 5, q= 5)\n",
    "model1_fit = model_1.fit()"
   ]
  },
  {
   "cell_type": "code",
   "execution_count": 19,
   "id": "cd04a22d",
   "metadata": {},
   "outputs": [
    {
     "data": {
      "text/html": [
       "<table class=\"simpletable\">\n",
       "<caption>Constant Mean - GARCH Model Results</caption>\n",
       "<tr>\n",
       "  <th>Dep. Variable:</th>        <td>Close</td>       <th>  R-squared:         </th>  <td>   0.000</td> \n",
       "</tr>\n",
       "<tr>\n",
       "  <th>Mean Model:</th>       <td>Constant Mean</td>   <th>  Adj. R-squared:    </th>  <td>   0.000</td> \n",
       "</tr>\n",
       "<tr>\n",
       "  <th>Vol Model:</th>            <td>GARCH</td>       <th>  Log-Likelihood:    </th> <td>   17120.5</td>\n",
       "</tr>\n",
       "<tr>\n",
       "  <th>Distribution:</th>        <td>Normal</td>       <th>  AIC:               </th> <td>  -34217.0</td>\n",
       "</tr>\n",
       "<tr>\n",
       "  <th>Method:</th>        <td>Maximum Likelihood</td> <th>  BIC:               </th> <td>  -34138.0</td>\n",
       "</tr>\n",
       "<tr>\n",
       "  <th></th>                        <td></td>          <th>  No. Observations:  </th>    <td>5325</td>   \n",
       "</tr>\n",
       "<tr>\n",
       "  <th>Date:</th>           <td>Wed, Dec 01 2021</td>  <th>  Df Residuals:      </th>    <td>5324</td>   \n",
       "</tr>\n",
       "<tr>\n",
       "  <th>Time:</th>               <td>15:13:02</td>      <th>  Df Model:          </th>      <td>1</td>    \n",
       "</tr>\n",
       "</table>\n",
       "<table class=\"simpletable\">\n",
       "<caption>Mean Model</caption>\n",
       "<tr>\n",
       "   <td></td>     <th>coef</th>     <th>std err</th>      <th>t</th>       <th>P>|t|</th>     <th>95.0% Conf. Int.</th>   \n",
       "</tr>\n",
       "<tr>\n",
       "  <th>mu</th> <td>5.4321e-04</td> <td>9.646e-05</td> <td>    5.631</td> <td>1.789e-08</td> <td>[3.541e-04,7.323e-04]</td>\n",
       "</tr>\n",
       "</table>\n",
       "<table class=\"simpletable\">\n",
       "<caption>Volatility Model</caption>\n",
       "<tr>\n",
       "      <td></td>        <th>coef</th>     <th>std err</th>      <th>t</th>       <th>P>|t|</th>     <th>95.0% Conf. Int.</th>   \n",
       "</tr>\n",
       "<tr>\n",
       "  <th>omega</th>    <td>3.1442e-06</td> <td>5.413e-12</td> <td>5.809e+05</td>   <td>0.000</td>   <td>[3.144e-06,3.144e-06]</td>\n",
       "</tr>\n",
       "<tr>\n",
       "  <th>alpha[1]</th> <td>    0.0400</td> <td>5.026e-02</td> <td>    0.796</td> <td>    0.426</td> <td>[-5.850e-02,  0.138]</td> \n",
       "</tr>\n",
       "<tr>\n",
       "  <th>alpha[2]</th> <td>    0.0400</td> <td>8.747e-02</td> <td>    0.457</td> <td>    0.647</td>   <td>[ -0.131,  0.211]</td>  \n",
       "</tr>\n",
       "<tr>\n",
       "  <th>alpha[3]</th> <td>    0.0400</td> <td>    0.136</td> <td>    0.294</td> <td>    0.769</td>   <td>[ -0.227,  0.307]</td>  \n",
       "</tr>\n",
       "<tr>\n",
       "  <th>alpha[4]</th> <td>    0.0400</td> <td>    0.134</td> <td>    0.298</td> <td>    0.766</td>   <td>[ -0.223,  0.303]</td>  \n",
       "</tr>\n",
       "<tr>\n",
       "  <th>alpha[5]</th> <td>    0.0400</td> <td>    0.156</td> <td>    0.256</td> <td>    0.798</td>   <td>[ -0.266,  0.346]</td>  \n",
       "</tr>\n",
       "<tr>\n",
       "  <th>beta[1]</th>  <td>    0.1560</td> <td>    0.317</td> <td>    0.492</td> <td>    0.623</td>   <td>[ -0.466,  0.778]</td>  \n",
       "</tr>\n",
       "<tr>\n",
       "  <th>beta[2]</th>  <td>    0.1560</td> <td>    2.715</td> <td>5.745e-02</td> <td>    0.954</td>   <td>[ -5.166,  5.478]</td>  \n",
       "</tr>\n",
       "<tr>\n",
       "  <th>beta[3]</th>  <td>    0.1560</td> <td>    4.532</td> <td>3.442e-02</td> <td>    0.973</td>   <td>[ -8.726,  9.038]</td>  \n",
       "</tr>\n",
       "<tr>\n",
       "  <th>beta[4]</th>  <td>    0.1560</td> <td>    2.898</td> <td>5.384e-02</td> <td>    0.957</td>   <td>[ -5.523,  5.835]</td>  \n",
       "</tr>\n",
       "<tr>\n",
       "  <th>beta[5]</th>  <td>    0.1560</td> <td>    0.944</td> <td>    0.165</td> <td>    0.869</td>   <td>[ -1.694,  2.006]</td>  \n",
       "</tr>\n",
       "</table><br/><br/>Covariance estimator: robust"
      ],
      "text/plain": [
       "<class 'statsmodels.iolib.summary.Summary'>\n",
       "\"\"\"\n",
       "                     Constant Mean - GARCH Model Results                      \n",
       "==============================================================================\n",
       "Dep. Variable:                  Close   R-squared:                       0.000\n",
       "Mean Model:             Constant Mean   Adj. R-squared:                  0.000\n",
       "Vol Model:                      GARCH   Log-Likelihood:                17120.5\n",
       "Distribution:                  Normal   AIC:                          -34217.0\n",
       "Method:            Maximum Likelihood   BIC:                          -34138.0\n",
       "                                        No. Observations:                 5325\n",
       "Date:                Wed, Dec 01 2021   Df Residuals:                     5324\n",
       "Time:                        15:13:02   Df Model:                            1\n",
       "                                 Mean Model                                 \n",
       "============================================================================\n",
       "                 coef    std err          t      P>|t|      95.0% Conf. Int.\n",
       "----------------------------------------------------------------------------\n",
       "mu         5.4321e-04  9.646e-05      5.631  1.789e-08 [3.541e-04,7.323e-04]\n",
       "                              Volatility Model                              \n",
       "============================================================================\n",
       "                 coef    std err          t      P>|t|      95.0% Conf. Int.\n",
       "----------------------------------------------------------------------------\n",
       "omega      3.1442e-06  5.413e-12  5.809e+05      0.000 [3.144e-06,3.144e-06]\n",
       "alpha[1]       0.0400  5.026e-02      0.796      0.426  [-5.850e-02,  0.138]\n",
       "alpha[2]       0.0400  8.747e-02      0.457      0.647     [ -0.131,  0.211]\n",
       "alpha[3]       0.0400      0.136      0.294      0.769     [ -0.227,  0.307]\n",
       "alpha[4]       0.0400      0.134      0.298      0.766     [ -0.223,  0.303]\n",
       "alpha[5]       0.0400      0.156      0.256      0.798     [ -0.266,  0.346]\n",
       "beta[1]        0.1560      0.317      0.492      0.623     [ -0.466,  0.778]\n",
       "beta[2]        0.1560      2.715  5.745e-02      0.954     [ -5.166,  5.478]\n",
       "beta[3]        0.1560      4.532  3.442e-02      0.973     [ -8.726,  9.038]\n",
       "beta[4]        0.1560      2.898  5.384e-02      0.957     [ -5.523,  5.835]\n",
       "beta[5]        0.1560      0.944      0.165      0.869     [ -1.694,  2.006]\n",
       "============================================================================\n",
       "\n",
       "Covariance estimator: robust\n",
       "\"\"\""
      ]
     },
     "execution_count": 19,
     "metadata": {},
     "output_type": "execute_result"
    }
   ],
   "source": [
    "model1_fit.summary()"
   ]
  },
  {
   "cell_type": "markdown",
   "id": "a378909a",
   "metadata": {},
   "source": [
    "# Rolling Forecast"
   ]
  },
  {
   "cell_type": "code",
   "execution_count": 23,
   "id": "5bb34704",
   "metadata": {},
   "outputs": [],
   "source": [
    "rolling_predictions = []\n",
    "\n",
    "test_size = 365*5\n",
    "\n",
    "for i in range(test_size):\n",
    "    train = returns[:-(test_size - i)]\n",
    "    model = arch_model(returns, p = 2, q = 2)\n",
    "    model_fit = model.fit(disp= \"off\")\n",
    "    pred = model_fit.forecast(horizon = 1)\n",
    "    rolling_predictions.append(np.sqrt(pred.variance.values[-1, :][0]))\n",
    "    "
   ]
  },
  {
   "cell_type": "code",
   "execution_count": 25,
   "id": "c28f3474",
   "metadata": {},
   "outputs": [],
   "source": [
    "rolling_predictions = pd.Series(rolling_predictions, index = returns.index[-365*5:])"
   ]
  },
  {
   "cell_type": "code",
   "execution_count": 26,
   "id": "f6059052",
   "metadata": {},
   "outputs": [
    {
     "data": {
      "text/plain": [
       "<matplotlib.legend.Legend at 0x7f8d3d9c47d0>"
      ]
     },
     "execution_count": 26,
     "metadata": {},
     "output_type": "execute_result"
    },
    {
     "data": {
      "image/png": "[encoded data removed]",
      "text/plain": [
       "<Figure size 720x288 with 1 Axes>"
      ]
     },
     "metadata": {
      "needs_background": "light"
     },
     "output_type": "display_data"
    }
   ],
   "source": [
    "plt.figure(figsize = (10,4))\n",
    "true, = plt.plot(returns[-365*5:])\n",
    "pred, = plt.plot(rolling_predictions)\n",
    "plt.title(\"Rolling Forecast Volatility prediction\", fontsize = 20)\n",
    "plt.legend([\"True volatility\", \"Predicted volatility\"], fontsize = 16)"
   ]
  },
  {
   "cell_type": "code",
   "execution_count": 27,
   "id": "9ca86900",
   "metadata": {},
   "outputs": [],
   "source": [
    "# Using the model\n",
    "\n",
    "train = returns\n",
    "model = arch_model(returns, p= 2, q=2)\n",
    "model_fit = model.fit(disp = \"off\")"
   ]
  },
  {
   "cell_type": "code",
   "execution_count": 31,
   "id": "69252d2a",
   "metadata": {},
   "outputs": [],
   "source": [
    "pred = model_fit.forecast(horizon = 7)\n",
    "future_dates = [returns.index[-1]+ timedelta(days = i) for i in range(1,8)]\n",
    "pred = pd.Series(np.sqrt(pred.variance.values[-1, :]), index = future_dates)"
   ]
  },
  {
   "cell_type": "code",
   "execution_count": 32,
   "id": "d16cb9fb",
   "metadata": {},
   "outputs": [
    {
     "data": {
      "text/plain": [
       "Text(0.5, 1.0, 'Volatility Prediction - Next 7 Days')"
      ]
     },
     "execution_count": 32,
     "metadata": {},
     "output_type": "execute_result"
    },
    {
     "data": {
      "image/png": "[encoded data removed]",
      "text/plain": [
       "<Figure size 720x288 with 1 Axes>"
      ]
     },
     "metadata": {
      "needs_background": "light"
     },
     "output_type": "display_data"
    }
   ],
   "source": [
    "plt.figure(figsize=(10,4))\n",
    "plt.plot(pred)\n",
    "plt.title('Volatility Prediction - Next 7 Days', fontsize=20)"
   ]
  },
  {
   "cell_type": "code",
   "execution_count": null,
   "id": "3ce2d3e8",
   "metadata": {},
   "outputs": [],
   "source": []
  }
 ],
 "metadata": {
  "kernelspec": {
   "display_name": "robin",
   "language": "python",
   "name": "robin"
  },
  "language_info": {
   "codemirror_mode": {
    "name": "ipython",
    "version": 3
   },
   "file_extension": ".py",
   "mimetype": "text/x-python",
   "name": "python",
   "nbconvert_exporter": "python",
   "pygments_lexer": "ipython3",
   "version": "3.7.11"
  }
 },
 "nbformat": 4,
 "nbformat_minor": 5
}
