{
 "cells": [
  {
   "cell_type": "markdown",
   "id": "12232bc7",
   "metadata": {},
   "source": [
    "# Basic Stock Trading"
   ]
  },
  {
   "cell_type": "code",
   "execution_count": 1,
   "id": "5f9a000a",
   "metadata": {},
   "outputs": [],
   "source": [
    "# importing libraries\n",
    "\n",
    "import yfinance as yf\n",
    "import pandas as pd\n",
    "import numpy as np\n",
    "import matplotlib.pyplot as plt\n",
    "from datetime import datetime,timedelta\n",
    "from statsmodels.graphics.tsaplots import plot_acf, plot_pacf"
   ]
  },
  {
   "cell_type": "code",
   "execution_count": 2,
   "id": "a5dba346",
   "metadata": {},
   "outputs": [],
   "source": [
    "# define the ticker symbol\n",
    "tickersymbol = \"MSFT\""
   ]
  },
  {
   "cell_type": "code",
   "execution_count": 3,
   "id": "a3c2ab70",
   "metadata": {},
   "outputs": [],
   "source": [
    "#get the data on this ticker\n",
    "tickerData = yf.Ticker(tickersymbol)"
   ]
  },
  {
   "cell_type": "code",
   "execution_count": 4,
   "id": "fb2e6b0e",
   "metadata": {},
   "outputs": [],
   "source": [
    "#get the price for this ticker\n",
    "ticker_df = tickerData.history(interval= \"1d\", start = \"2019-1-1\", end = \"2021-12-1\")"
   ]
  },
  {
   "cell_type": "code",
   "execution_count": 5,
   "id": "698b3166",
   "metadata": {},
   "outputs": [
    {
     "data": {
      "text/html": [
       "<div>\n",
       "<style scoped>\n",
       "    .dataframe tbody tr th:only-of-type {\n",
       "        vertical-align: middle;\n",
       "    }\n",
       "\n",
       "    .dataframe tbody tr th {\n",
       "        vertical-align: top;\n",
       "    }\n",
       "\n",
       "    .dataframe thead th {\n",
       "        text-align: right;\n",
       "    }\n",
       "</style>\n",
       "<table border=\"1\" class=\"dataframe\">\n",
       "  <thead>\n",
       "    <tr style=\"text-align: right;\">\n",
       "      <th></th>\n",
       "      <th>Open</th>\n",
       "      <th>High</th>\n",
       "      <th>Low</th>\n",
       "      <th>Close</th>\n",
       "      <th>Volume</th>\n",
       "      <th>Dividends</th>\n",
       "      <th>Stock Splits</th>\n",
       "    </tr>\n",
       "    <tr>\n",
       "      <th>Date</th>\n",
       "      <th></th>\n",
       "      <th></th>\n",
       "      <th></th>\n",
       "      <th></th>\n",
       "      <th></th>\n",
       "      <th></th>\n",
       "      <th></th>\n",
       "    </tr>\n",
       "  </thead>\n",
       "  <tbody>\n",
       "    <tr>\n",
       "      <th>2018-12-31</th>\n",
       "      <td>97.946810</td>\n",
       "      <td>99.020174</td>\n",
       "      <td>97.124867</td>\n",
       "      <td>98.217567</td>\n",
       "      <td>33173800</td>\n",
       "      <td>0.0</td>\n",
       "      <td>0</td>\n",
       "    </tr>\n",
       "    <tr>\n",
       "      <th>2019-01-02</th>\n",
       "      <td>96.264252</td>\n",
       "      <td>98.391636</td>\n",
       "      <td>95.674385</td>\n",
       "      <td>97.782433</td>\n",
       "      <td>35329300</td>\n",
       "      <td>0.0</td>\n",
       "      <td>0</td>\n",
       "    </tr>\n",
       "    <tr>\n",
       "      <th>2019-01-03</th>\n",
       "      <td>96.796100</td>\n",
       "      <td>96.883133</td>\n",
       "      <td>93.991816</td>\n",
       "      <td>94.185219</td>\n",
       "      <td>42579100</td>\n",
       "      <td>0.0</td>\n",
       "      <td>0</td>\n",
       "    </tr>\n",
       "    <tr>\n",
       "      <th>2019-01-04</th>\n",
       "      <td>96.428626</td>\n",
       "      <td>99.126540</td>\n",
       "      <td>95.664700</td>\n",
       "      <td>98.565681</td>\n",
       "      <td>44060600</td>\n",
       "      <td>0.0</td>\n",
       "      <td>0</td>\n",
       "    </tr>\n",
       "    <tr>\n",
       "      <th>2019-01-07</th>\n",
       "      <td>98.285248</td>\n",
       "      <td>99.861445</td>\n",
       "      <td>97.647036</td>\n",
       "      <td>98.691383</td>\n",
       "      <td>35656100</td>\n",
       "      <td>0.0</td>\n",
       "      <td>0</td>\n",
       "    </tr>\n",
       "    <tr>\n",
       "      <th>...</th>\n",
       "      <td>...</td>\n",
       "      <td>...</td>\n",
       "      <td>...</td>\n",
       "      <td>...</td>\n",
       "      <td>...</td>\n",
       "      <td>...</td>\n",
       "      <td>...</td>\n",
       "    </tr>\n",
       "    <tr>\n",
       "      <th>2021-11-23</th>\n",
       "      <td>337.049988</td>\n",
       "      <td>339.450012</td>\n",
       "      <td>333.559998</td>\n",
       "      <td>337.679993</td>\n",
       "      <td>30427600</td>\n",
       "      <td>0.0</td>\n",
       "      <td>0</td>\n",
       "    </tr>\n",
       "    <tr>\n",
       "      <th>2021-11-24</th>\n",
       "      <td>336.279999</td>\n",
       "      <td>338.160004</td>\n",
       "      <td>333.910004</td>\n",
       "      <td>337.910004</td>\n",
       "      <td>21661300</td>\n",
       "      <td>0.0</td>\n",
       "      <td>0</td>\n",
       "    </tr>\n",
       "    <tr>\n",
       "      <th>2021-11-26</th>\n",
       "      <td>334.350006</td>\n",
       "      <td>337.929993</td>\n",
       "      <td>328.119995</td>\n",
       "      <td>329.679993</td>\n",
       "      <td>24217200</td>\n",
       "      <td>0.0</td>\n",
       "      <td>0</td>\n",
       "    </tr>\n",
       "    <tr>\n",
       "      <th>2021-11-29</th>\n",
       "      <td>334.940002</td>\n",
       "      <td>339.029999</td>\n",
       "      <td>334.739990</td>\n",
       "      <td>336.630005</td>\n",
       "      <td>28563500</td>\n",
       "      <td>0.0</td>\n",
       "      <td>0</td>\n",
       "    </tr>\n",
       "    <tr>\n",
       "      <th>2021-11-30</th>\n",
       "      <td>335.320007</td>\n",
       "      <td>337.779999</td>\n",
       "      <td>328.989990</td>\n",
       "      <td>330.589996</td>\n",
       "      <td>42885600</td>\n",
       "      <td>0.0</td>\n",
       "      <td>0</td>\n",
       "    </tr>\n",
       "  </tbody>\n",
       "</table>\n",
       "<p>736 rows × 7 columns</p>\n",
       "</div>"
      ],
      "text/plain": [
       "                  Open        High         Low       Close    Volume  \\\n",
       "Date                                                                   \n",
       "2018-12-31   97.946810   99.020174   97.124867   98.217567  33173800   \n",
       "2019-01-02   96.264252   98.391636   95.674385   97.782433  35329300   \n",
       "2019-01-03   96.796100   96.883133   93.991816   94.185219  42579100   \n",
       "2019-01-04   96.428626   99.126540   95.664700   98.565681  44060600   \n",
       "2019-01-07   98.285248   99.861445   97.647036   98.691383  35656100   \n",
       "...                ...         ...         ...         ...       ...   \n",
       "2021-11-23  337.049988  339.450012  333.559998  337.679993  30427600   \n",
       "2021-11-24  336.279999  338.160004  333.910004  337.910004  21661300   \n",
       "2021-11-26  334.350006  337.929993  328.119995  329.679993  24217200   \n",
       "2021-11-29  334.940002  339.029999  334.739990  336.630005  28563500   \n",
       "2021-11-30  335.320007  337.779999  328.989990  330.589996  42885600   \n",
       "\n",
       "            Dividends  Stock Splits  \n",
       "Date                                 \n",
       "2018-12-31        0.0             0  \n",
       "2019-01-02        0.0             0  \n",
       "2019-01-03        0.0             0  \n",
       "2019-01-04        0.0             0  \n",
       "2019-01-07        0.0             0  \n",
       "...               ...           ...  \n",
       "2021-11-23        0.0             0  \n",
       "2021-11-24        0.0             0  \n",
       "2021-11-26        0.0             0  \n",
       "2021-11-29        0.0             0  \n",
       "2021-11-30        0.0             0  \n",
       "\n",
       "[736 rows x 7 columns]"
      ]
     },
     "execution_count": 5,
     "metadata": {},
     "output_type": "execute_result"
    }
   ],
   "source": [
    "ticker_df"
   ]
  },
  {
   "cell_type": "code",
   "execution_count": 6,
   "id": "c53a4183",
   "metadata": {},
   "outputs": [
    {
     "name": "stdout",
     "output_type": "stream",
     "text": [
      "<class 'pandas.core.frame.DataFrame'>\n",
      "DatetimeIndex: 736 entries, 2018-12-31 to 2021-11-30\n",
      "Data columns (total 7 columns):\n",
      " #   Column        Non-Null Count  Dtype  \n",
      "---  ------        --------------  -----  \n",
      " 0   Open          736 non-null    float64\n",
      " 1   High          736 non-null    float64\n",
      " 2   Low           736 non-null    float64\n",
      " 3   Close         736 non-null    float64\n",
      " 4   Volume        736 non-null    int64  \n",
      " 5   Dividends     736 non-null    float64\n",
      " 6   Stock Splits  736 non-null    int64  \n",
      "dtypes: float64(5), int64(2)\n",
      "memory usage: 46.0 KB\n"
     ]
    }
   ],
   "source": [
    "ticker_df.info()"
   ]
  },
  {
   "cell_type": "code",
   "execution_count": 34,
   "id": "26db2a09",
   "metadata": {},
   "outputs": [],
   "source": [
    "priceData = ticker_df.Open"
   ]
  },
  {
   "cell_type": "code",
   "execution_count": 35,
   "id": "6604ab3f",
   "metadata": {},
   "outputs": [
    {
     "data": {
      "text/plain": [
       "Date\n",
       "2018-12-31     97.946810\n",
       "2019-01-02     96.264252\n",
       "2019-01-03     96.796100\n",
       "2019-01-04     96.428626\n",
       "2019-01-07     98.285248\n",
       "                 ...    \n",
       "2021-11-23    337.049988\n",
       "2021-11-24    336.279999\n",
       "2021-11-26    334.350006\n",
       "2021-11-29    334.940002\n",
       "2021-11-30    335.320007\n",
       "Name: Open, Length: 736, dtype: float64"
      ]
     },
     "execution_count": 35,
     "metadata": {},
     "output_type": "execute_result"
    }
   ],
   "source": [
    "priceData"
   ]
  },
  {
   "cell_type": "code",
   "execution_count": 8,
   "id": "dfadffe5",
   "metadata": {},
   "outputs": [],
   "source": [
    "priceData = priceData.asfreq(pd.infer_freq(priceData.index))"
   ]
  },
  {
   "cell_type": "code",
   "execution_count": 9,
   "id": "53417095",
   "metadata": {},
   "outputs": [
    {
     "data": {
      "text/plain": [
       "Date\n",
       "2018-12-31     97.946810\n",
       "2019-01-01           NaN\n",
       "2019-01-02     96.264252\n",
       "2019-01-03     96.796100\n",
       "2019-01-04     96.428626\n",
       "                 ...    \n",
       "2021-11-26    334.350006\n",
       "2021-11-27           NaN\n",
       "2021-11-28           NaN\n",
       "2021-11-29    334.940002\n",
       "2021-11-30    335.320007\n",
       "Freq: D, Name: Open, Length: 1066, dtype: float64"
      ]
     },
     "execution_count": 9,
     "metadata": {},
     "output_type": "execute_result"
    }
   ],
   "source": [
    "priceData"
   ]
  },
  {
   "cell_type": "code",
   "execution_count": 10,
   "id": "66118b7f",
   "metadata": {},
   "outputs": [
    {
     "data": {
      "image/png": "[encoded data removed]",
      "text/plain": [
       "<Figure size 720x288 with 1 Axes>"
      ]
     },
     "metadata": {
      "needs_background": "light"
     },
     "output_type": "display_data"
    }
   ],
   "source": [
    "plt.figure(figsize = (10,4))\n",
    "plt.plot(priceData)\n",
    "\n",
    "plt.title(\"%s Price Data\"%tickersymbol, fontsize = 20)\n",
    "\n",
    "for year in range(priceData.index[0].year, priceData.index[-1].year+1):\n",
    "    plt.axvline(datetime(year,1,1), color = \"k\", linestyle = \"--\", alpha = 0.3)"
   ]
  },
  {
   "cell_type": "markdown",
   "id": "f73a44b0",
   "metadata": {},
   "source": [
    "# Basic Buying Protocol:\n",
    "- Buy if stock increasing for $b$ consecutive days\n",
    "\n",
    "# Basic Selling Protocols:\n",
    "- Sell if stock decreasing for $s$ consecutive days (and we've made a profit)"
   ]
  },
  {
   "cell_type": "code",
   "execution_count": 11,
   "id": "c836326e",
   "metadata": {},
   "outputs": [],
   "source": [
    "def get_buying_selling_days(price_data, b,s):\n",
    "    \n",
    "    #get the pct change day after day\n",
    "    pct_change = price_data.pct_change()[1:]\n",
    "    \n",
    "    #this function checks the buying conditions\n",
    "    def buying_condition(sub_series):\n",
    "        return (sub_series > 0).all()\n",
    "    \n",
    "    #this function checks the selling condition\n",
    "    def selling_condition(sub_series):\n",
    "        return (sub_series < 0).all()\n",
    "    \n",
    "    #get all the buying days from the data\n",
    "    buying_days  = pct_change.rolling(b).apply(buying_condition)\n",
    "    \n",
    "    #get the potential selling days in the data\n",
    "    selling_days = pct_change.rolling(s).apply(selling_condition)\n",
    "    \n",
    "    return {\"buying_days\": buying_days, \"potential_selling_days\":selling_days}"
   ]
  },
  {
   "cell_type": "code",
   "execution_count": 12,
   "id": "843acf64",
   "metadata": {},
   "outputs": [
    {
     "data": {
      "text/plain": [
       "{'buying_days': Date\n",
       " 2019-01-01    NaN\n",
       " 2019-01-02    NaN\n",
       " 2019-01-03    NaN\n",
       " 2019-01-04    0.0\n",
       " 2019-01-05    0.0\n",
       "              ... \n",
       " 2021-11-26    0.0\n",
       " 2021-11-27    0.0\n",
       " 2021-11-28    0.0\n",
       " 2021-11-29    0.0\n",
       " 2021-11-30    0.0\n",
       " Freq: D, Name: Open, Length: 1065, dtype: float64,\n",
       " 'potential_selling_days': Date\n",
       " 2019-01-01    0.0\n",
       " 2019-01-02    1.0\n",
       " 2019-01-03    0.0\n",
       " 2019-01-04    1.0\n",
       " 2019-01-05    0.0\n",
       "              ... \n",
       " 2021-11-26    1.0\n",
       " 2021-11-27    0.0\n",
       " 2021-11-28    0.0\n",
       " 2021-11-29    0.0\n",
       " 2021-11-30    0.0\n",
       " Freq: D, Name: Open, Length: 1065, dtype: float64}"
      ]
     },
     "execution_count": 12,
     "metadata": {},
     "output_type": "execute_result"
    }
   ],
   "source": [
    "info_dict = get_buying_selling_days(priceData, 4,1)\n",
    "info_dict"
   ]
  },
  {
   "cell_type": "code",
   "execution_count": 13,
   "id": "b15010d9",
   "metadata": {},
   "outputs": [],
   "source": [
    "buying_days = info_dict[\"buying_days\"]\n",
    "potential_selling_days = info_dict[\"potential_selling_days\"]"
   ]
  },
  {
   "cell_type": "code",
   "execution_count": 14,
   "id": "58e81b3c",
   "metadata": {},
   "outputs": [
    {
     "data": {
      "text/plain": [
       "Date\n",
       "2019-01-01    0.0\n",
       "2019-01-02    1.0\n",
       "2019-01-03    0.0\n",
       "2019-01-04    1.0\n",
       "2019-01-05    0.0\n",
       "             ... \n",
       "2021-11-26    1.0\n",
       "2021-11-27    0.0\n",
       "2021-11-28    0.0\n",
       "2021-11-29    0.0\n",
       "2021-11-30    0.0\n",
       "Freq: D, Name: Open, Length: 1065, dtype: float64"
      ]
     },
     "execution_count": 14,
     "metadata": {},
     "output_type": "execute_result"
    }
   ],
   "source": [
    "potential_selling_days"
   ]
  },
  {
   "cell_type": "code",
   "execution_count": 15,
   "id": "d0bba2cd",
   "metadata": {},
   "outputs": [
    {
     "data": {
      "text/html": [
       "<div>\n",
       "<style scoped>\n",
       "    .dataframe tbody tr th:only-of-type {\n",
       "        vertical-align: middle;\n",
       "    }\n",
       "\n",
       "    .dataframe tbody tr th {\n",
       "        vertical-align: top;\n",
       "    }\n",
       "\n",
       "    .dataframe thead th {\n",
       "        text-align: right;\n",
       "    }\n",
       "</style>\n",
       "<table border=\"1\" class=\"dataframe\">\n",
       "  <thead>\n",
       "    <tr style=\"text-align: right;\">\n",
       "      <th></th>\n",
       "    </tr>\n",
       "    <tr>\n",
       "      <th>Date</th>\n",
       "    </tr>\n",
       "  </thead>\n",
       "  <tbody>\n",
       "    <tr>\n",
       "      <th>2019-01-01</th>\n",
       "    </tr>\n",
       "    <tr>\n",
       "      <th>2019-01-02</th>\n",
       "    </tr>\n",
       "    <tr>\n",
       "      <th>2019-01-03</th>\n",
       "    </tr>\n",
       "    <tr>\n",
       "      <th>2019-01-04</th>\n",
       "    </tr>\n",
       "    <tr>\n",
       "      <th>2019-01-05</th>\n",
       "    </tr>\n",
       "    <tr>\n",
       "      <th>...</th>\n",
       "    </tr>\n",
       "    <tr>\n",
       "      <th>2021-11-26</th>\n",
       "    </tr>\n",
       "    <tr>\n",
       "      <th>2021-11-27</th>\n",
       "    </tr>\n",
       "    <tr>\n",
       "      <th>2021-11-28</th>\n",
       "    </tr>\n",
       "    <tr>\n",
       "      <th>2021-11-29</th>\n",
       "    </tr>\n",
       "    <tr>\n",
       "      <th>2021-11-30</th>\n",
       "    </tr>\n",
       "  </tbody>\n",
       "</table>\n",
       "<p>1065 rows × 0 columns</p>\n",
       "</div>"
      ],
      "text/plain": [
       "Empty DataFrame\n",
       "Columns: []\n",
       "Index: [2019-01-01 00:00:00, 2019-01-02 00:00:00, 2019-01-03 00:00:00, 2019-01-04 00:00:00, 2019-01-05 00:00:00, 2019-01-06 00:00:00, 2019-01-07 00:00:00, 2019-01-08 00:00:00, 2019-01-09 00:00:00, 2019-01-10 00:00:00, 2019-01-11 00:00:00, 2019-01-12 00:00:00, 2019-01-13 00:00:00, 2019-01-14 00:00:00, 2019-01-15 00:00:00, 2019-01-16 00:00:00, 2019-01-17 00:00:00, 2019-01-18 00:00:00, 2019-01-19 00:00:00, 2019-01-20 00:00:00, 2019-01-21 00:00:00, 2019-01-22 00:00:00, 2019-01-23 00:00:00, 2019-01-24 00:00:00, 2019-01-25 00:00:00, 2019-01-26 00:00:00, 2019-01-27 00:00:00, 2019-01-28 00:00:00, 2019-01-29 00:00:00, 2019-01-30 00:00:00, 2019-01-31 00:00:00, 2019-02-01 00:00:00, 2019-02-02 00:00:00, 2019-02-03 00:00:00, 2019-02-04 00:00:00, 2019-02-05 00:00:00, 2019-02-06 00:00:00, 2019-02-07 00:00:00, 2019-02-08 00:00:00, 2019-02-09 00:00:00, 2019-02-10 00:00:00, 2019-02-11 00:00:00, 2019-02-12 00:00:00, 2019-02-13 00:00:00, 2019-02-14 00:00:00, 2019-02-15 00:00:00, 2019-02-16 00:00:00, 2019-02-17 00:00:00, 2019-02-18 00:00:00, 2019-02-19 00:00:00, 2019-02-20 00:00:00, 2019-02-21 00:00:00, 2019-02-22 00:00:00, 2019-02-23 00:00:00, 2019-02-24 00:00:00, 2019-02-25 00:00:00, 2019-02-26 00:00:00, 2019-02-27 00:00:00, 2019-02-28 00:00:00, 2019-03-01 00:00:00, 2019-03-02 00:00:00, 2019-03-03 00:00:00, 2019-03-04 00:00:00, 2019-03-05 00:00:00, 2019-03-06 00:00:00, 2019-03-07 00:00:00, 2019-03-08 00:00:00, 2019-03-09 00:00:00, 2019-03-10 00:00:00, 2019-03-11 00:00:00, 2019-03-12 00:00:00, 2019-03-13 00:00:00, 2019-03-14 00:00:00, 2019-03-15 00:00:00, 2019-03-16 00:00:00, 2019-03-17 00:00:00, 2019-03-18 00:00:00, 2019-03-19 00:00:00, 2019-03-20 00:00:00, 2019-03-21 00:00:00, 2019-03-22 00:00:00, 2019-03-23 00:00:00, 2019-03-24 00:00:00, 2019-03-25 00:00:00, 2019-03-26 00:00:00, 2019-03-27 00:00:00, 2019-03-28 00:00:00, 2019-03-29 00:00:00, 2019-03-30 00:00:00, 2019-03-31 00:00:00, 2019-04-01 00:00:00, 2019-04-02 00:00:00, 2019-04-03 00:00:00, 2019-04-04 00:00:00, 2019-04-05 00:00:00, 2019-04-06 00:00:00, 2019-04-07 00:00:00, 2019-04-08 00:00:00, 2019-04-09 00:00:00, 2019-04-10 00:00:00, ...]\n",
       "\n",
       "[1065 rows x 0 columns]"
      ]
     },
     "execution_count": 15,
     "metadata": {},
     "output_type": "execute_result"
    }
   ],
   "source": [
    "df_stocks = pd.DataFrame(index = buying_days.index)\n",
    "df_stocks"
   ]
  },
  {
   "cell_type": "code",
   "execution_count": 16,
   "id": "cd9360f9",
   "metadata": {},
   "outputs": [],
   "source": [
    "#populate df with buying days and possible selling days\n",
    "\n",
    "df_stocks[\"buying_day\"] = (buying_days==1)\n",
    "df_stocks[\"potential_selling_day\"] = (potential_selling_days == 1)\n",
    "df_stocks[\"price\"] = priceData"
   ]
  },
  {
   "cell_type": "code",
   "execution_count": 17,
   "id": "e49507f5",
   "metadata": {},
   "outputs": [
    {
     "data": {
      "text/html": [
       "<div>\n",
       "<style scoped>\n",
       "    .dataframe tbody tr th:only-of-type {\n",
       "        vertical-align: middle;\n",
       "    }\n",
       "\n",
       "    .dataframe tbody tr th {\n",
       "        vertical-align: top;\n",
       "    }\n",
       "\n",
       "    .dataframe thead th {\n",
       "        text-align: right;\n",
       "    }\n",
       "</style>\n",
       "<table border=\"1\" class=\"dataframe\">\n",
       "  <thead>\n",
       "    <tr style=\"text-align: right;\">\n",
       "      <th></th>\n",
       "      <th>buying_day</th>\n",
       "      <th>potential_selling_day</th>\n",
       "      <th>price</th>\n",
       "    </tr>\n",
       "    <tr>\n",
       "      <th>Date</th>\n",
       "      <th></th>\n",
       "      <th></th>\n",
       "      <th></th>\n",
       "    </tr>\n",
       "  </thead>\n",
       "  <tbody>\n",
       "    <tr>\n",
       "      <th>2019-01-01</th>\n",
       "      <td>False</td>\n",
       "      <td>False</td>\n",
       "      <td>NaN</td>\n",
       "    </tr>\n",
       "    <tr>\n",
       "      <th>2019-01-02</th>\n",
       "      <td>False</td>\n",
       "      <td>True</td>\n",
       "      <td>96.264252</td>\n",
       "    </tr>\n",
       "    <tr>\n",
       "      <th>2019-01-03</th>\n",
       "      <td>False</td>\n",
       "      <td>False</td>\n",
       "      <td>96.796100</td>\n",
       "    </tr>\n",
       "    <tr>\n",
       "      <th>2019-01-04</th>\n",
       "      <td>False</td>\n",
       "      <td>True</td>\n",
       "      <td>96.428626</td>\n",
       "    </tr>\n",
       "    <tr>\n",
       "      <th>2019-01-05</th>\n",
       "      <td>False</td>\n",
       "      <td>False</td>\n",
       "      <td>NaN</td>\n",
       "    </tr>\n",
       "    <tr>\n",
       "      <th>...</th>\n",
       "      <td>...</td>\n",
       "      <td>...</td>\n",
       "      <td>...</td>\n",
       "    </tr>\n",
       "    <tr>\n",
       "      <th>2021-11-26</th>\n",
       "      <td>False</td>\n",
       "      <td>True</td>\n",
       "      <td>334.350006</td>\n",
       "    </tr>\n",
       "    <tr>\n",
       "      <th>2021-11-27</th>\n",
       "      <td>False</td>\n",
       "      <td>False</td>\n",
       "      <td>NaN</td>\n",
       "    </tr>\n",
       "    <tr>\n",
       "      <th>2021-11-28</th>\n",
       "      <td>False</td>\n",
       "      <td>False</td>\n",
       "      <td>NaN</td>\n",
       "    </tr>\n",
       "    <tr>\n",
       "      <th>2021-11-29</th>\n",
       "      <td>False</td>\n",
       "      <td>False</td>\n",
       "      <td>334.940002</td>\n",
       "    </tr>\n",
       "    <tr>\n",
       "      <th>2021-11-30</th>\n",
       "      <td>False</td>\n",
       "      <td>False</td>\n",
       "      <td>335.320007</td>\n",
       "    </tr>\n",
       "  </tbody>\n",
       "</table>\n",
       "<p>1065 rows × 3 columns</p>\n",
       "</div>"
      ],
      "text/plain": [
       "            buying_day  potential_selling_day       price\n",
       "Date                                                     \n",
       "2019-01-01       False                  False         NaN\n",
       "2019-01-02       False                   True   96.264252\n",
       "2019-01-03       False                  False   96.796100\n",
       "2019-01-04       False                   True   96.428626\n",
       "2019-01-05       False                  False         NaN\n",
       "...                ...                    ...         ...\n",
       "2021-11-26       False                   True  334.350006\n",
       "2021-11-27       False                  False         NaN\n",
       "2021-11-28       False                  False         NaN\n",
       "2021-11-29       False                  False  334.940002\n",
       "2021-11-30       False                  False  335.320007\n",
       "\n",
       "[1065 rows x 3 columns]"
      ]
     },
     "execution_count": 17,
     "metadata": {},
     "output_type": "execute_result"
    }
   ],
   "source": [
    "df_stocks"
   ]
  },
  {
   "cell_type": "code",
   "execution_count": 18,
   "id": "8ac837bc",
   "metadata": {},
   "outputs": [],
   "source": [
    "#only keeping days that are buying or possible selling days\n",
    "\n",
    "df_stocks = df_stocks[(df_stocks.buying_day | df_stocks.potential_selling_day)]\n"
   ]
  },
  {
   "cell_type": "code",
   "execution_count": 19,
   "id": "54632871",
   "metadata": {},
   "outputs": [
    {
     "data": {
      "text/html": [
       "<div>\n",
       "<style scoped>\n",
       "    .dataframe tbody tr th:only-of-type {\n",
       "        vertical-align: middle;\n",
       "    }\n",
       "\n",
       "    .dataframe tbody tr th {\n",
       "        vertical-align: top;\n",
       "    }\n",
       "\n",
       "    .dataframe thead th {\n",
       "        text-align: right;\n",
       "    }\n",
       "</style>\n",
       "<table border=\"1\" class=\"dataframe\">\n",
       "  <thead>\n",
       "    <tr style=\"text-align: right;\">\n",
       "      <th></th>\n",
       "      <th>buying_day</th>\n",
       "      <th>potential_selling_day</th>\n",
       "      <th>price</th>\n",
       "    </tr>\n",
       "    <tr>\n",
       "      <th>Date</th>\n",
       "      <th></th>\n",
       "      <th></th>\n",
       "      <th></th>\n",
       "    </tr>\n",
       "  </thead>\n",
       "  <tbody>\n",
       "    <tr>\n",
       "      <th>2019-01-02</th>\n",
       "      <td>False</td>\n",
       "      <td>True</td>\n",
       "      <td>96.264252</td>\n",
       "    </tr>\n",
       "    <tr>\n",
       "      <th>2019-01-04</th>\n",
       "      <td>False</td>\n",
       "      <td>True</td>\n",
       "      <td>96.428626</td>\n",
       "    </tr>\n",
       "    <tr>\n",
       "      <th>2019-01-10</th>\n",
       "      <td>False</td>\n",
       "      <td>True</td>\n",
       "      <td>99.813110</td>\n",
       "    </tr>\n",
       "    <tr>\n",
       "      <th>2019-01-11</th>\n",
       "      <td>False</td>\n",
       "      <td>True</td>\n",
       "      <td>99.784102</td>\n",
       "    </tr>\n",
       "    <tr>\n",
       "      <th>2019-01-14</th>\n",
       "      <td>False</td>\n",
       "      <td>True</td>\n",
       "      <td>98.536682</td>\n",
       "    </tr>\n",
       "  </tbody>\n",
       "</table>\n",
       "</div>"
      ],
      "text/plain": [
       "            buying_day  potential_selling_day      price\n",
       "Date                                                    \n",
       "2019-01-02       False                   True  96.264252\n",
       "2019-01-04       False                   True  96.428626\n",
       "2019-01-10       False                   True  99.813110\n",
       "2019-01-11       False                   True  99.784102\n",
       "2019-01-14       False                   True  98.536682"
      ]
     },
     "execution_count": 19,
     "metadata": {},
     "output_type": "execute_result"
    }
   ],
   "source": [
    "df_stocks.head()"
   ]
  },
  {
   "cell_type": "code",
   "execution_count": 20,
   "id": "badaee7e",
   "metadata": {},
   "outputs": [],
   "source": [
    "def check_cum_pct_change(price_data, buy_date, potential_selling_date):\n",
    "    \n",
    "    \"\"\"\n",
    "    This helper function will check if the cumulative percent change\n",
    "    between a buying and potential selling day yields overall growth\n",
    "    \"\"\"\n",
    "    #get the pct change day after day\n",
    "    pct_change = price_data.pct_change()[1:]\n",
    "    \n",
    "    sub_series = 1+ pct_change[buy_date+timedelta(hours = 1):potential_selling_date]\n",
    "    \n",
    "    return sub_series.product() > 1\n",
    "    "
   ]
  },
  {
   "cell_type": "code",
   "execution_count": 27,
   "id": "2416a035",
   "metadata": {},
   "outputs": [],
   "source": [
    "def get_investing_result(df_stocks, starting_funds, verbose = False):\n",
    "    \n",
    "    #get a copy of price data\n",
    "    price_data = df_stocks.price\n",
    "    \n",
    "    #at start not holding any shares\n",
    "    holding = False\n",
    "    \n",
    "    current_funds = starting_funds\n",
    "    current_shares = 0\n",
    "    last_buy_date = None\n",
    "    \n",
    "    #init dict of buying and selling date\n",
    "    events_list = []\n",
    "    \n",
    "    #for each buying and potential selling date\n",
    "    for date, data in df_stocks.iterrows():\n",
    "        \n",
    "        #if not holding any shares and this a buying day\n",
    "        if (not holding) and data.buying_day:\n",
    "            \n",
    "            #calculate the shares can buy\n",
    "            num_shares_to_buy = int(current_funds)/data.price\n",
    "            \n",
    "            #update the number of shares\n",
    "            current_shares += num_shares_to_buy\n",
    "            \n",
    "            #update current funds\n",
    "            current_funds -= num_shares_to_buy *data.price\n",
    "            \n",
    "            #set last buy date\n",
    "            last_buy_date = date\n",
    "            events_list.append((\"b\",date))\n",
    "            \n",
    "            holding = True\n",
    "            \n",
    "            if verbose:\n",
    "                print('Bought %s shares at $%s on %s totaling $%s'%\\\n",
    "                      (num_shares_to_buy, data.price, date.date(), round(num_shares_to_buy*data.price,2)))\n",
    "        \n",
    "        #if holding and it is potential selling dates       \n",
    "        elif holding and data.potential_selling_day:\n",
    "            \n",
    "            #check to make sure we r making profit\n",
    "            if check_cum_pct_change(price_data, last_buy_date,date):\n",
    "                \n",
    "                #add to current fund\n",
    "                current_funds += current_shares * data.price\n",
    "                \n",
    "                if verbose:\n",
    "                    print('Sold %s shares at $%s on %s totaling $%s'%\\\n",
    "                          (current_shares, data.price, date.date(), round(num_shares_to_buy*data.price,2)))\n",
    "                    print('--------------------------------------')\n",
    "                    \n",
    "                #reset current shares\n",
    "                current_shares = 0\n",
    "                \n",
    "                #update the holding \n",
    "                holding = False\n",
    "                \n",
    "                events_list.append((\"s\", date))\n",
    "                \n",
    "    #get the stock price at the end of the time span\n",
    "    final_stock_price = price_data[-1]\n",
    "    \n",
    "    #get the final total value(fund + stock value)\n",
    "    final_value = current_funds + final_stock_price * current_shares\n",
    "    \n",
    "    #return the percent change \n",
    "    return round((final_value - starting_funds)/starting_funds, 2), events_list\n",
    "            \n",
    "        "
   ]
  },
  {
   "cell_type": "code",
   "execution_count": 28,
   "id": "194836fe",
   "metadata": {},
   "outputs": [
    {
     "name": "stdout",
     "output_type": "stream",
     "text": [
      "Bought 89.90177621971378 shares at $111.23250752644402 on 2019-03-14 totaling $10000.0\n",
      "Sold 89.90177621971378 shares at $114.00022141798603 on 2019-03-20 totaling $10248.82\n",
      "--------------------------------------\n",
      "Bought 87.86615081138832 shares at $116.63194421704151 on 2019-04-04 totaling $10248.0\n",
      "Sold 87.86615081138832 shares at $117.73902120128162 on 2019-04-17 totaling $10345.27\n",
      "--------------------------------------\n",
      "Bought 81.91325663053244 shares at $126.3043422466446 on 2019-04-25 totaling $10346.0\n",
      "Sold 81.91325663053244 shares at $128.07800499826612 on 2019-06-12 totaling $10491.29\n",
      "--------------------------------------\n",
      "Bought 78.30563647150207 shares at $133.97503005825143 on 2019-06-20 totaling $10491.0\n",
      "Sold 78.30563647150207 shares at $135.446870425559 on 2019-07-16 totaling $10606.25\n",
      "--------------------------------------\n",
      "Bought 78.21273808673755 shares at $135.60450969301186 on 2019-08-22 totaling $10606.0\n",
      "Sold 78.21273808673755 shares at $136.51404836814947 on 2019-09-09 totaling $10677.14\n",
      "--------------------------------------\n",
      "Bought 77.42412585220306 shares at $137.90275166143437 on 2019-09-20 totaling $10677.0\n",
      "Sold 77.42412585220306 shares at $140.90507233870068 on 2019-10-29 totaling $10909.45\n",
      "--------------------------------------\n",
      "Bought 75.87965683325767 shares at $143.78030232759568 on 2019-11-14 totaling $10910.0\n",
      "Sold 75.87965683325767 shares at $147.49798615477047 on 2019-11-20 totaling $11192.1\n",
      "--------------------------------------\n",
      "Bought 75.20853189016816 shares at $148.81290351930278 on 2019-12-12 totaling $11192.0\n",
      "Sold 75.20853189016816 shares at $151.41335775178615 on 2019-12-18 totaling $11387.58\n",
      "--------------------------------------\n",
      "Bought 64.47064256837024 shares at $176.6230263320897 on 2020-04-17 totaling $11387.0\n",
      "Sold 64.47064256837024 shares at $180.2145070600871 on 2020-05-11 totaling $11618.55\n",
      "--------------------------------------\n",
      "Bought 60.971695574377186 shares at $190.5638327841219 on 2020-06-11 totaling $11619.0\n",
      "Sold 60.971695574377186 shares at $191.4222603899199 on 2020-06-18 totaling $11671.34\n",
      "--------------------------------------\n",
      "Bought 51.826799502833346 shares at $225.19237367458803 on 2021-01-22 totaling $11671.0\n",
      "Sold 51.826799502833346 shares at $233.65145357310706 on 2021-01-28 totaling $12109.41\n",
      "--------------------------------------\n",
      "Bought 48.19974368712129 shares at $251.24614932829456 on 2021-04-08 totaling $12110.0\n",
      "Sold 48.19974368712129 shares at $256.265714121314 on 2021-04-20 totaling $12351.94\n",
      "--------------------------------------\n",
      "Bought 46.582085509550026 shares at $265.16631586766664 on 2021-06-24 totaling $12352.0\n",
      "Sold 46.582085509550026 shares at $265.1962130342426 on 2021-06-28 totaling $12353.39\n",
      "--------------------------------------\n",
      "Bought 40.686455429697645 shares at $303.61455352985513 on 2021-09-17 totaling $12353.0\n",
      "Sold 40.686455429697645 shares at $306.6090645379293 on 2021-10-21 totaling $12474.84\n",
      "--------------------------------------\n"
     ]
    }
   ],
   "source": [
    "percent_change, events_list = get_investing_result(df_stocks, 10000, True)"
   ]
  },
  {
   "cell_type": "code",
   "execution_count": 31,
   "id": "750509ef",
   "metadata": {},
   "outputs": [
    {
     "name": "stdout",
     "output_type": "stream",
     "text": [
      "0.25\n"
     ]
    }
   ],
   "source": [
    "print(percent_change)"
   ]
  },
  {
   "cell_type": "code",
   "execution_count": 33,
   "id": "358167fe",
   "metadata": {},
   "outputs": [
    {
     "data": {
      "text/plain": [
       "(91.0, 361.0)"
      ]
     },
     "execution_count": 33,
     "metadata": {},
     "output_type": "execute_result"
    },
    {
     "data": {
      "image/png": "[encoded data removed]",
      "text/plain": [
       "<Figure size 936x432 with 1 Axes>"
      ]
     },
     "metadata": {
      "needs_background": "light"
     },
     "output_type": "display_data"
    }
   ],
   "source": [
    "#plotting the result\n",
    "\n",
    "plt.figure(figsize = (13,6))\n",
    "plt.plot(priceData)\n",
    "\n",
    "y_lims = (int(priceData.min()*.95), int(priceData.max()*1.05))\n",
    "shaded_y_lims = int(priceData.min()*.5) , int(priceData.max()*1.5)\n",
    "\n",
    "for idx, event in enumerate(events_list):\n",
    "    color = \"red\" if event[0] == \"b\" else \"blue\"\n",
    "    plt.axvline(event[1] , color = color, linestyle = \"--\",alpha = 0.4)\n",
    "    \n",
    "    if event[0] == \"s\":\n",
    "        plt.fill_betweenx(range(*shaded_y_lims), event[1], events_list[idx-1][1], color = \"k\", alpha = 0.3)\n",
    "        \n",
    "        \n",
    "plt.title(\"%s Price data\"%tickersymbol, fontsize = 20)\n",
    "plt.ylim(*y_lims)"
   ]
  },
  {
   "cell_type": "code",
   "execution_count": null,
   "id": "77435af3",
   "metadata": {},
   "outputs": [],
   "source": []
  }
 ],
 "metadata": {
  "kernelspec": {
   "display_name": "robin",
   "language": "python",
   "name": "robin"
  },
  "language_info": {
   "codemirror_mode": {
    "name": "ipython",
    "version": 3
   },
   "file_extension": ".py",
   "mimetype": "text/x-python",
   "name": "python",
   "nbconvert_exporter": "python",
   "pygments_lexer": "ipython3",
   "version": "3.7.11"
  }
 },
 "nbformat": 4,
 "nbformat_minor": 5
}
